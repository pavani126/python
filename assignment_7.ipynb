{
  "nbformat": 4,
  "nbformat_minor": 0,
  "metadata": {
    "colab": {
      "name": "assignment 7",
      "provenance": [],
      "collapsed_sections": [],
      "authorship_tag": "ABX9TyPfwQCz2eGQ5ryo0PL1tUaH",
      "include_colab_link": true
    },
    "kernelspec": {
      "name": "python3",
      "display_name": "Python 3"
    }
  },
  "cells": [
    {
      "cell_type": "markdown",
      "metadata": {
        "id": "view-in-github",
        "colab_type": "text"
      },
      "source": [
        "<a href=\"https://colab.research.google.com/github/pavani126/python/blob/master/assignment_7.ipynb\" target=\"_parent\"><img src=\"https://colab.research.google.com/assets/colab-badge.svg\" alt=\"Open In Colab\"/></a>"
      ]
    },
    {
      "cell_type": "code",
      "metadata": {
        "id": "_08gTB_LYCuX",
        "colab_type": "code",
        "colab": {
          "base_uri": "https://localhost:8080/",
          "height": 34
        },
        "outputId": "0ef78c56-280d-410f-c339-d27443fcd5ac"
      },
      "source": [
        "list1=[(1,2),(3,4),(5,6),(4,5)]\n",
        "list2=[]\n",
        "for each in range(0,len(list1)):\n",
        "  a,b=list1[each]\n",
        "  list2.append(a+b)\n",
        "print(\"The list contains sum of tuple:\",list2)\n",
        "\n"
      ],
      "execution_count": 19,
      "outputs": [
        {
          "output_type": "stream",
          "text": [
            "The list contains sum of tuple: [3, 7, 11, 9]\n"
          ],
          "name": "stdout"
        }
      ]
    },
    {
      "cell_type": "code",
      "metadata": {
        "id": "V4NycvZbsrkC",
        "colab_type": "code",
        "colab": {
          "base_uri": "https://localhost:8080/",
          "height": 118
        },
        "outputId": "9d5bccb3-7fe4-4310-83d5-6a9042d9813a"
      },
      "source": [
        "port1={21:\"FIP\",22:\"SSH\",23:\"telnet\",80:\"http\"}\n",
        "new_dict=dict([(value,key) for key, value in port1.items()])\n",
        "print(\"Dictionary after swapping is:\")\n",
        "print(\"keys:values\")\n",
        "for i in new_dict:\n",
        "  print(i,\":\",new_dict[i])\n",
        "  "
      ],
      "execution_count": 20,
      "outputs": [
        {
          "output_type": "stream",
          "text": [
            "Dictionary after swapping is:\n",
            "keys:values\n",
            "FIP : 21\n",
            "SSH : 22\n",
            "telnet : 23\n",
            "http : 80\n"
          ],
          "name": "stdout"
        }
      ]
    }
  ]
}